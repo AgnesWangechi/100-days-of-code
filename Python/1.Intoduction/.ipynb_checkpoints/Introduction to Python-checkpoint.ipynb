{
 "cells": [
  {
   "cell_type": "markdown",
   "id": "4f8f053e",
   "metadata": {},
   "source": [
    "## Introduction to Python\n",
    "\n",
    "### By Agnes Wangechi\n",
    "\n",
    "> Hello Stranger! These are notes I made when I was learning about python during my #100daysofCode Challenge.\n",
    "\n",
    "  **Start date of challenge: 7th November 2022 (in-progress)**"
   ]
  },
  {
   "cell_type": "markdown",
   "id": "a6156ec4",
   "metadata": {},
   "source": [
    "### Comments\n",
    "\n",
    "Comments can be very useful in programming and are used to give additional information about a program. \n",
    "\n",
    "Comments are normally ignored by a program. This means there will be no output or error message after compilation.\n",
    "\n",
    "Comments in python are indicated by the `#` sign"
   ]
  },
  {
   "cell_type": "code",
   "execution_count": 9,
   "id": "88c8de00",
   "metadata": {},
   "outputs": [],
   "source": [
    "#This is an example of a comment"
   ]
  },
  {
   "cell_type": "markdown",
   "id": "1ebab776",
   "metadata": {},
   "source": [
    "### Variables"
   ]
  },
  {
   "cell_type": "markdown",
   "id": "6596e3da",
   "metadata": {},
   "source": [
    "Imagine we have a box, we name the box age. Inside the box we put 39 balls. The box name, age, is the variable name while the 39 balls is the value or variable.\n",
    "\n",
    "Variables are assigned values using the equal sign character `=`. Variable name can consists of numbers `0-9`, characters `A-Z, a-z`, and underscore `_`. \n",
    "\n",
    "Python is case sensitive so the variable name can only start with a small letter `vehicle` or the variable can be all capital letters `VEHICLE` but cannot start with a capital letter followed with small letters `Vehicle`. \n",
    "\n",
    "Variable names can start with an underscore. However it cannot start with a number.\n",
    "\n",
    "When underscores are used to separate two words.\n",
    "\n",
    "There are special key words used in python that cannot be used when creating variables such as `for`, `if`, `import`, `while`."
   ]
  },
  {
   "cell_type": "code",
   "execution_count": 2,
   "id": "85f32313",
   "metadata": {},
   "outputs": [],
   "source": [
    "age = 39\n",
    "my_name = \"Agnes\" # name is the variable name while Agnes is the variable/value"
   ]
  },
  {
   "cell_type": "markdown",
   "id": "a8a08592",
   "metadata": {},
   "source": [
    "### Expressions and statements"
   ]
  },
  {
   "cell_type": "markdown",
   "id": "ed6da4dd",
   "metadata": {},
   "source": [
    "Expressions are any code that returns a value"
   ]
  },
  {
   "cell_type": "code",
   "execution_count": 6,
   "id": "b4cdf830",
   "metadata": {},
   "outputs": [
    {
     "data": {
      "text/plain": [
       "2"
      ]
     },
     "execution_count": 6,
     "metadata": {},
     "output_type": "execute_result"
    }
   ],
   "source": [
    "1+1"
   ]
  },
  {
   "cell_type": "code",
   "execution_count": 5,
   "id": "14c9d1d3",
   "metadata": {},
   "outputs": [
    {
     "data": {
      "text/plain": [
       "'Agnes'"
      ]
     },
     "execution_count": 5,
     "metadata": {},
     "output_type": "execute_result"
    }
   ],
   "source": [
    "'Agnes'"
   ]
  },
  {
   "cell_type": "markdown",
   "id": "a6047f93",
   "metadata": {},
   "source": [
    "Statements do operations on values. "
   ]
  },
  {
   "cell_type": "code",
   "execution_count": 7,
   "id": "866ab005",
   "metadata": {},
   "outputs": [
    {
     "name": "stdout",
     "output_type": "stream",
     "text": [
      "Agnes\n"
     ]
    }
   ],
   "source": [
    "my_name = \"Agnes\" # This is a statement because we are doing an operation of \n",
    "                  # assigning the value Agnes to a variable name called my_name\n",
    "    \n",
    "print(my_name)# This is also a statement because we are doing an operation of printing the value Agnes"
   ]
  },
  {
   "cell_type": "markdown",
   "id": "b23d3732",
   "metadata": {},
   "source": [
    "Programs consists of statements. Each statement is placed on its own line as seen above. However statements can be placed on one line by the use of a semicolon `;`"
   ]
  },
  {
   "cell_type": "code",
   "execution_count": 10,
   "id": "8513478c",
   "metadata": {},
   "outputs": [
    {
     "name": "stdout",
     "output_type": "stream",
     "text": [
      "Agnes\n"
     ]
    }
   ],
   "source": [
    "my_name = 'Agnes'; print(my_name)"
   ]
  },
  {
   "cell_type": "markdown",
   "id": "17f0d8c9",
   "metadata": {},
   "source": [
    "### Data types"
   ]
  },
  {
   "cell_type": "markdown",
   "id": "36447388",
   "metadata": {},
   "source": [
    "There are several types of data types:\n",
    "\n",
    "1. String indicated as `str`. These are a set of alphabet characters `A-Z, a-z`. Strings are always declared using double `\" \"` or single quotes `' '`.\n",
    "\n",
    "2. Float indicated as `float`. These are numbers that have deciaml points e.g `2.9`.\n",
    "\n",
    "3. Integer indicated as `int`. These are numbers `0-9` that do not have a decimal point.\n",
    "\n",
    "4. Boolean indicated as `bool`. This returns either `True` or `False` depending on the statement."
   ]
  },
  {
   "cell_type": "markdown",
   "id": "56fb61d3",
   "metadata": {},
   "source": [
    "Python has an inbuilt funtion called `type` that enables one to know the data type of a value"
   ]
  },
  {
   "cell_type": "code",
   "execution_count": 11,
   "id": "a42ce309",
   "metadata": {},
   "outputs": [
    {
     "name": "stdout",
     "output_type": "stream",
     "text": [
      "<class 'str'>\n"
     ]
    }
   ],
   "source": [
    "name = \"Agnes\"\n",
    "print(type(name)) # We use the print funtion to dispaly the output."
   ]
  },
  {
   "cell_type": "markdown",
   "id": "cd0af342",
   "metadata": {},
   "source": [
    "> We can see the output is the data type string."
   ]
  },
  {
   "cell_type": "markdown",
   "id": "ddda23b1",
   "metadata": {},
   "source": [
    "One can compare the value/variable to data type which will output a boolean `True` if it matches or `False` if it does not.\n",
    "\n",
    "The example below will be checking if the value is a float"
   ]
  },
  {
   "cell_type": "code",
   "execution_count": 12,
   "id": "b02f75ed",
   "metadata": {},
   "outputs": [
    {
     "name": "stdout",
     "output_type": "stream",
     "text": [
      "False\n"
     ]
    }
   ],
   "source": [
    "age = 30\n",
    "print(type(age) == float)"
   ]
  },
  {
   "cell_type": "markdown",
   "id": "227044de",
   "metadata": {},
   "source": [
    "> We can see the output is False. 10 is an integer not a float. "
   ]
  },
  {
   "cell_type": "markdown",
   "id": "5a49f190",
   "metadata": {},
   "source": [
    "There is another function that does the same operation called `isinstance`. This gives a boolean output."
   ]
  },
  {
   "cell_type": "code",
   "execution_count": 13,
   "id": "cd278379",
   "metadata": {},
   "outputs": [
    {
     "name": "stdout",
     "output_type": "stream",
     "text": [
      "False\n"
     ]
    }
   ],
   "source": [
    "age = 30\n",
    "print(isinstance(age, str))"
   ]
  },
  {
   "cell_type": "markdown",
   "id": "e8e07c0e",
   "metadata": {},
   "source": [
    "> We can see the output is false because the 30 is and integer not a string."
   ]
  },
  {
   "cell_type": "markdown",
   "id": "9c48a553",
   "metadata": {},
   "source": [
    "### Type Conversion"
   ]
  },
  {
   "cell_type": "code",
   "execution_count": null,
   "id": "7b589854",
   "metadata": {},
   "outputs": [],
   "source": []
  }
 ],
 "metadata": {
  "kernelspec": {
   "display_name": "Python 3 (ipykernel)",
   "language": "python",
   "name": "python3"
  },
  "language_info": {
   "codemirror_mode": {
    "name": "ipython",
    "version": 3
   },
   "file_extension": ".py",
   "mimetype": "text/x-python",
   "name": "python",
   "nbconvert_exporter": "python",
   "pygments_lexer": "ipython3",
   "version": "3.9.12"
  }
 },
 "nbformat": 4,
 "nbformat_minor": 5
}
