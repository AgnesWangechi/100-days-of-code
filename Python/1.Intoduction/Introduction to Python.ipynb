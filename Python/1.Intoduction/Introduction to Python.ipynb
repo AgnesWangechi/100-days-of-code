{
 "cells": [
  {
   "cell_type": "markdown",
   "id": "4f8f053e",
   "metadata": {},
   "source": [
    "## Introduction to Python\n",
    "\n",
    "### By Agnes Wangechi\n",
    "\n",
    "> Hello Stranger! These are notes I made when I was learning about python during my #100daysofCode Challenge.\n",
    "\n",
    "  **Start date of challenge: 7th November 2022 (in-progress)**"
   ]
  },
  {
   "cell_type": "markdown",
   "id": "a6156ec4",
   "metadata": {},
   "source": [
    "### Comments\n",
    "\n",
    "Comments can be very useful in programming and are used to give additional information about a program. \n",
    "\n",
    "Comments are normally ignored by a program. This means there will be no output or error message after compilation.\n",
    "\n",
    "Comments in python are indicated by the `#` sign"
   ]
  },
  {
   "cell_type": "code",
   "execution_count": 9,
   "id": "88c8de00",
   "metadata": {},
   "outputs": [],
   "source": [
    "#This is an example of a comment"
   ]
  },
  {
   "cell_type": "markdown",
   "id": "1ebab776",
   "metadata": {},
   "source": [
    "### Variables"
   ]
  },
  {
   "cell_type": "markdown",
   "id": "6596e3da",
   "metadata": {},
   "source": [
    "Imagine we have a box, we name the box age. Inside the box we put 39 balls. The box name, age, is the variable name while the 39 balls is the value or variable.\n",
    "\n",
    "Variables are assigned values using the equal sign character `=`. Variable name can consists of numbers `0-9`, characters `A-Z, a-z`, and underscore `_`. \n",
    "\n",
    "Python is case sensitive so the variable name can only start with a small letter `vehicle` or the variable can be all capital letters `VEHICLE` but cannot start with a capital letter followed with small letters `Vehicle`. \n",
    "\n",
    "Variable names can start with an underscore. However it cannot start with a number.\n",
    "\n",
    "When underscores are used to separate two words.\n",
    "\n",
    "There are special key words used in python that cannot be used when creating variables such as `for`, `if`, `import`, `while`."
   ]
  },
  {
   "cell_type": "code",
   "execution_count": 2,
   "id": "85f32313",
   "metadata": {},
   "outputs": [],
   "source": [
    "age = 39\n",
    "my_name = \"Agnes\" # name is the variable name while Agnes is the variable/value"
   ]
  },
  {
   "cell_type": "markdown",
   "id": "a8a08592",
   "metadata": {},
   "source": [
    "### Expressions and statements"
   ]
  },
  {
   "cell_type": "markdown",
   "id": "ed6da4dd",
   "metadata": {},
   "source": [
    "Expressions are any code that returns a value"
   ]
  },
  {
   "cell_type": "code",
   "execution_count": 6,
   "id": "b4cdf830",
   "metadata": {},
   "outputs": [
    {
     "data": {
      "text/plain": [
       "2"
      ]
     },
     "execution_count": 6,
     "metadata": {},
     "output_type": "execute_result"
    }
   ],
   "source": [
    "1+1"
   ]
  },
  {
   "cell_type": "code",
   "execution_count": 5,
   "id": "14c9d1d3",
   "metadata": {},
   "outputs": [
    {
     "data": {
      "text/plain": [
       "'Agnes'"
      ]
     },
     "execution_count": 5,
     "metadata": {},
     "output_type": "execute_result"
    }
   ],
   "source": [
    "'Agnes'"
   ]
  },
  {
   "cell_type": "markdown",
   "id": "a6047f93",
   "metadata": {},
   "source": [
    "Statements do operations on values. "
   ]
  },
  {
   "cell_type": "code",
   "execution_count": 7,
   "id": "866ab005",
   "metadata": {},
   "outputs": [
    {
     "name": "stdout",
     "output_type": "stream",
     "text": [
      "Agnes\n"
     ]
    }
   ],
   "source": [
    "my_name = \"Agnes\" # This is a statement because we are doing an operation of \n",
    "                  # assigning the value Agnes to a variable name called my_name\n",
    "    \n",
    "print(my_name)# This is also a statement because we are doing an operation of printing the value Agnes as an output"
   ]
  },
  {
   "cell_type": "markdown",
   "id": "b23d3732",
   "metadata": {},
   "source": [
    "Programs consists of statements. Each statement is placed on its own line as seen above. However statements can be placed on one line by the use of a semicolon `;`"
   ]
  },
  {
   "cell_type": "code",
   "execution_count": 10,
   "id": "8513478c",
   "metadata": {},
   "outputs": [
    {
     "name": "stdout",
     "output_type": "stream",
     "text": [
      "Agnes\n"
     ]
    }
   ],
   "source": [
    "my_name = 'Agnes'; print(my_name)"
   ]
  },
  {
   "cell_type": "markdown",
   "id": "17f0d8c9",
   "metadata": {},
   "source": [
    "### Data types"
   ]
  },
  {
   "cell_type": "markdown",
   "id": "36447388",
   "metadata": {},
   "source": [
    "There are several types of data types:\n",
    "\n",
    "1. String indicated as `str`. These are a set of alphabet characters `A-Z, a-z`. Strings are always declared using double `\" \"` or single quotes `' '`.\n",
    "\n",
    "2. Float indicated as `float`. These are numbers that have deciaml points e.g `2.9`.\n",
    "\n",
    "3. Integer indicated as `int`. These are numbers `0-9` that do not have a decimal point.\n",
    "\n",
    "4. Boolean indicated as `bool`. This returns either `True` or `False` depending on the statement."
   ]
  },
  {
   "cell_type": "markdown",
   "id": "56fb61d3",
   "metadata": {},
   "source": [
    "Python has an inbuilt funtion called `type` that enables one to know the data type of a value"
   ]
  },
  {
   "cell_type": "code",
   "execution_count": 11,
   "id": "a42ce309",
   "metadata": {},
   "outputs": [
    {
     "name": "stdout",
     "output_type": "stream",
     "text": [
      "<class 'str'>\n"
     ]
    }
   ],
   "source": [
    "name = \"Agnes\"\n",
    "print(type(name)) # We use the print funtion to dispaly the output."
   ]
  },
  {
   "cell_type": "markdown",
   "id": "cd0af342",
   "metadata": {},
   "source": [
    "> We can see the output is the data type string."
   ]
  },
  {
   "cell_type": "markdown",
   "id": "ddda23b1",
   "metadata": {},
   "source": [
    "One can compare the value/variable to data type which will output a boolean `True` if it matches or `False` if it does not.\n",
    "\n",
    "The example below will be checking if the value is a float"
   ]
  },
  {
   "cell_type": "code",
   "execution_count": 12,
   "id": "b02f75ed",
   "metadata": {},
   "outputs": [
    {
     "name": "stdout",
     "output_type": "stream",
     "text": [
      "False\n"
     ]
    }
   ],
   "source": [
    "age = 30\n",
    "print(type(age) == float)"
   ]
  },
  {
   "cell_type": "markdown",
   "id": "227044de",
   "metadata": {},
   "source": [
    "> We can see the output is False. 10 is an integer not a float. "
   ]
  },
  {
   "cell_type": "markdown",
   "id": "5a49f190",
   "metadata": {},
   "source": [
    "There is another function that does the same operation called `isinstance`. This gives a boolean output."
   ]
  },
  {
   "cell_type": "code",
   "execution_count": 13,
   "id": "cd278379",
   "metadata": {},
   "outputs": [
    {
     "name": "stdout",
     "output_type": "stream",
     "text": [
      "False\n"
     ]
    }
   ],
   "source": [
    "age = 30\n",
    "print(isinstance(age, str))"
   ]
  },
  {
   "cell_type": "markdown",
   "id": "e8e07c0e",
   "metadata": {},
   "source": [
    "> We can see the output is false because the 30 is and integer not a string."
   ]
  },
  {
   "cell_type": "markdown",
   "id": "9c48a553",
   "metadata": {},
   "source": [
    "### Operators"
   ]
  },
  {
   "cell_type": "markdown",
   "id": "c2a88d9e",
   "metadata": {},
   "source": [
    "**1. Assignment operator `=` - Used to assign the variables to variable names** "
   ]
  },
  {
   "cell_type": "code",
   "execution_count": 1,
   "id": "5e1d6967",
   "metadata": {},
   "outputs": [],
   "source": [
    "age = 20"
   ]
  },
  {
   "cell_type": "markdown",
   "id": "5e29e774",
   "metadata": {},
   "source": [
    "**2. Arithmetic operator `+, -, *, /` - Used in basic arithmetic/math operations.**"
   ]
  },
  {
   "cell_type": "code",
   "execution_count": 11,
   "id": "f2b83485",
   "metadata": {},
   "outputs": [
    {
     "data": {
      "text/plain": [
       "2"
      ]
     },
     "execution_count": 11,
     "metadata": {},
     "output_type": "execute_result"
    }
   ],
   "source": [
    "1 + 1 # Addition"
   ]
  },
  {
   "cell_type": "markdown",
   "id": "c2c0db81",
   "metadata": {},
   "source": [
    "`+` Can also be used to concatenate strings"
   ]
  },
  {
   "cell_type": "code",
   "execution_count": 13,
   "id": "b50c9c3b",
   "metadata": {},
   "outputs": [
    {
     "name": "stdout",
     "output_type": "stream",
     "text": [
      "Can you fly?\n"
     ]
    }
   ],
   "source": [
    "print(\"Can\" + \" you fly?\")"
   ]
  },
  {
   "cell_type": "code",
   "execution_count": 5,
   "id": "e6700858",
   "metadata": {},
   "outputs": [
    {
     "data": {
      "text/plain": [
       "0"
      ]
     },
     "execution_count": 5,
     "metadata": {},
     "output_type": "execute_result"
    }
   ],
   "source": [
    "2 - 2 # Subtraction"
   ]
  },
  {
   "cell_type": "markdown",
   "id": "02e398d2",
   "metadata": {},
   "source": [
    "`-` Can be used to make a number negative"
   ]
  },
  {
   "cell_type": "code",
   "execution_count": 14,
   "id": "ec2b0ab3",
   "metadata": {},
   "outputs": [
    {
     "data": {
      "text/plain": [
       "4"
      ]
     },
     "execution_count": 14,
     "metadata": {},
     "output_type": "execute_result"
    }
   ],
   "source": [
    "2 - -2"
   ]
  },
  {
   "cell_type": "code",
   "execution_count": 6,
   "id": "6be4a985",
   "metadata": {},
   "outputs": [
    {
     "data": {
      "text/plain": [
       "4"
      ]
     },
     "execution_count": 6,
     "metadata": {},
     "output_type": "execute_result"
    }
   ],
   "source": [
    "2 * 2 # Multiplication"
   ]
  },
  {
   "cell_type": "code",
   "execution_count": 7,
   "id": "1c0d0291",
   "metadata": {},
   "outputs": [
    {
     "data": {
      "text/plain": [
       "3.0"
      ]
     },
     "execution_count": 7,
     "metadata": {},
     "output_type": "execute_result"
    }
   ],
   "source": [
    "6 / 2 #Division"
   ]
  },
  {
   "cell_type": "code",
   "execution_count": 8,
   "id": "b13333c6",
   "metadata": {},
   "outputs": [
    {
     "data": {
      "text/plain": [
       "1"
      ]
     },
     "execution_count": 8,
     "metadata": {},
     "output_type": "execute_result"
    }
   ],
   "source": [
    "4 % 3 # Finding the remainder"
   ]
  },
  {
   "cell_type": "code",
   "execution_count": 9,
   "id": "59d4b90c",
   "metadata": {},
   "outputs": [
    {
     "data": {
      "text/plain": [
       "16"
      ]
     },
     "execution_count": 9,
     "metadata": {},
     "output_type": "execute_result"
    }
   ],
   "source": [
    "4 ** 2 # Exponents/ power"
   ]
  },
  {
   "cell_type": "code",
   "execution_count": 10,
   "id": "e76fd326",
   "metadata": {},
   "outputs": [
    {
     "data": {
      "text/plain": [
       "2"
      ]
     },
     "execution_count": 10,
     "metadata": {},
     "output_type": "execute_result"
    }
   ],
   "source": [
    "5 // 2 # Floor division - the answer is rounded down to the nearest whole number"
   ]
  },
  {
   "cell_type": "markdown",
   "id": "0ae2a8ca",
   "metadata": {},
   "source": [
    "Arithmetic and assignment operators can be used together"
   ]
  },
  {
   "cell_type": "code",
   "execution_count": 15,
   "id": "96f942e7",
   "metadata": {},
   "outputs": [
    {
     "name": "stdout",
     "output_type": "stream",
     "text": [
      "20\n"
     ]
    }
   ],
   "source": [
    "age = 16\n",
    "age += 4 # age = age + 4\n",
    "print(age)"
   ]
  },
  {
   "cell_type": "markdown",
   "id": "30621ee1",
   "metadata": {},
   "source": [
    "**3. Comparison Operators `==, !=, <, >, <=, >=`- Gives a boolean output**"
   ]
  },
  {
   "cell_type": "code",
   "execution_count": 16,
   "id": "ce61b89b",
   "metadata": {},
   "outputs": [],
   "source": [
    "a = 1\n",
    "b = 3"
   ]
  },
  {
   "cell_type": "code",
   "execution_count": 17,
   "id": "84d25f46",
   "metadata": {},
   "outputs": [
    {
     "data": {
      "text/plain": [
       "False"
      ]
     },
     "execution_count": 17,
     "metadata": {},
     "output_type": "execute_result"
    }
   ],
   "source": [
    "a == b # Checks if a and b are equal to each other"
   ]
  },
  {
   "cell_type": "code",
   "execution_count": 18,
   "id": "b0a9dabc",
   "metadata": {},
   "outputs": [
    {
     "data": {
      "text/plain": [
       "True"
      ]
     },
     "execution_count": 18,
     "metadata": {},
     "output_type": "execute_result"
    }
   ],
   "source": [
    "a != b # Checks if a and b are not equal to each other"
   ]
  },
  {
   "cell_type": "code",
   "execution_count": 19,
   "id": "3c26a4e3",
   "metadata": {},
   "outputs": [
    {
     "data": {
      "text/plain": [
       "True"
      ]
     },
     "execution_count": 19,
     "metadata": {},
     "output_type": "execute_result"
    }
   ],
   "source": [
    "a < b # Checks if a is less than b"
   ]
  },
  {
   "cell_type": "code",
   "execution_count": 19,
   "id": "82f77975",
   "metadata": {},
   "outputs": [
    {
     "data": {
      "text/plain": [
       "True"
      ]
     },
     "execution_count": 19,
     "metadata": {},
     "output_type": "execute_result"
    }
   ],
   "source": [
    "a > b # Checks if a is greater than b"
   ]
  },
  {
   "cell_type": "code",
   "execution_count": 20,
   "id": "d25701a3",
   "metadata": {},
   "outputs": [
    {
     "data": {
      "text/plain": [
       "True"
      ]
     },
     "execution_count": 20,
     "metadata": {},
     "output_type": "execute_result"
    }
   ],
   "source": [
    "a <= b # Checks if a is less than or equal to b"
   ]
  },
  {
   "cell_type": "code",
   "execution_count": 21,
   "id": "29ce7d7d",
   "metadata": {},
   "outputs": [
    {
     "data": {
      "text/plain": [
       "False"
      ]
     },
     "execution_count": 21,
     "metadata": {},
     "output_type": "execute_result"
    }
   ],
   "source": [
    "a >= b # Checks if a is greater than or equal to b"
   ]
  },
  {
   "cell_type": "markdown",
   "id": "b57eca42",
   "metadata": {},
   "source": [
    "**4. Boolean Operator - `and, not, or`**"
   ]
  },
  {
   "cell_type": "code",
   "execution_count": 23,
   "id": "d588b91b",
   "metadata": {},
   "outputs": [],
   "source": [
    "condition1 = True\n",
    "condition2 = False"
   ]
  },
  {
   "cell_type": "code",
   "execution_count": 24,
   "id": "04b01ff5",
   "metadata": {},
   "outputs": [
    {
     "data": {
      "text/plain": [
       "True"
      ]
     },
     "execution_count": 24,
     "metadata": {},
     "output_type": "execute_result"
    }
   ],
   "source": [
    "not condition2 # not checks if the condition is not True"
   ]
  },
  {
   "cell_type": "code",
   "execution_count": 25,
   "id": "b912858e",
   "metadata": {},
   "outputs": [
    {
     "data": {
      "text/plain": [
       "False"
      ]
     },
     "execution_count": 25,
     "metadata": {},
     "output_type": "execute_result"
    }
   ],
   "source": [
    "condition1 and condition2 # Checks if both conditions are True"
   ]
  },
  {
   "cell_type": "code",
   "execution_count": 26,
   "id": "e522d7b9",
   "metadata": {},
   "outputs": [
    {
     "data": {
      "text/plain": [
       "True"
      ]
     },
     "execution_count": 26,
     "metadata": {},
     "output_type": "execute_result"
    }
   ],
   "source": [
    "condition1 or condition2 # Checks if one of the conditions are True"
   ]
  },
  {
   "cell_type": "markdown",
   "id": "b1e53010",
   "metadata": {},
   "source": [
    "**5. Bitwise operators `&, |, ^, ~, <<, >>`**"
   ]
  },
  {
   "cell_type": "markdown",
   "id": "d1f3b41e",
   "metadata": {},
   "source": [
    "`&` - Performs binary AND\n",
    "\n",
    "`|` - Performs binary OR\n",
    "\n",
    "`^` - Performs binary XOR\n",
    "\n",
    "`~` - Performs binary NOT\n",
    "\n",
    "`<<` - Shift left operation\n",
    "\n",
    "`>>`- Shift right operation"
   ]
  },
  {
   "cell_type": "markdown",
   "id": "910511df",
   "metadata": {},
   "source": [
    "**6. `is` and `in` operators**"
   ]
  },
  {
   "cell_type": "markdown",
   "id": "b1f2cd7a",
   "metadata": {},
   "source": [
    "`is` operator is also known as the identity operator. It is used to compare two objects and returns True if both objects are the same. Covered in-depth under objects"
   ]
  },
  {
   "cell_type": "markdown",
   "id": "33c601f6",
   "metadata": {},
   "source": [
    "`in` operator is also known as the membership operator. It is used to check if a value is in a list. Covered in-depth under lists"
   ]
  },
  {
   "cell_type": "markdown",
   "id": "3c4019d6",
   "metadata": {},
   "source": [
    "**7. Ternary operator - Used to put if else statements in one line**"
   ]
  },
  {
   "cell_type": "code",
   "execution_count": 33,
   "id": "406dffa6",
   "metadata": {},
   "outputs": [
    {
     "name": "stdout",
     "output_type": "stream",
     "text": [
      "False\n"
     ]
    }
   ],
   "source": [
    "# Normal if-else loop to check for age\n",
    "age = 16\n",
    "\n",
    "def isadult(age):\n",
    "    if age > 18:\n",
    "        return True\n",
    "    else:\n",
    "        return False\n",
    "    \n",
    "check = isadult(age)   \n",
    "print(check)"
   ]
  },
  {
   "cell_type": "code",
   "execution_count": 35,
   "id": "f3ac6ebd",
   "metadata": {},
   "outputs": [
    {
     "name": "stdout",
     "output_type": "stream",
     "text": [
      "False\n"
     ]
    }
   ],
   "source": [
    "# Checking for the age using a ternary operator `if`\n",
    "def isadult2(age):\n",
    "    return True if age > 18 else False\n",
    "\n",
    "check2 = isadult2(age)\n",
    "print(check2)"
   ]
  },
  {
   "cell_type": "code",
   "execution_count": null,
   "id": "7345af52",
   "metadata": {},
   "outputs": [],
   "source": []
  }
 ],
 "metadata": {
  "kernelspec": {
   "display_name": "Python 3 (ipykernel)",
   "language": "python",
   "name": "python3"
  },
  "language_info": {
   "codemirror_mode": {
    "name": "ipython",
    "version": 3
   },
   "file_extension": ".py",
   "mimetype": "text/x-python",
   "name": "python",
   "nbconvert_exporter": "python",
   "pygments_lexer": "ipython3",
   "version": "3.9.12"
  }
 },
 "nbformat": 4,
 "nbformat_minor": 5
}
