{
 "cells": [
  {
   "cell_type": "markdown",
   "id": "4f8f053e",
   "metadata": {},
   "source": [
    "## Introduction to Python\n",
    "\n",
    "### By Agnes Wangechi\n",
    "\n",
    "> Hello Stranger! These are notes I made when I was learning about python during my #100daysofCode Challenge.\n",
    "\n",
    "  **Start date of challenge: 7th November 2022 (in-progress)**"
   ]
  },
  {
   "cell_type": "markdown",
   "id": "c7248807",
   "metadata": {},
   "source": [
    "## Table of Contents\n",
    "<ul>\n",
    "    <li><a href = \"#Comm\" >Comments</a></li>\n",
    "    <li><a href = \"#var\" >Variables</a></li>\n",
    "    <li><a href = \"#ex\" >Expressions and Statements</a></li>\n",
    "    <li><a href = \"#data\" >Data types</a></li>\n",
    "        <ul>\n",
    "        <li><a href = \"#bool\" >Boolean</a></li>\n",
    "        <li><a href = \"#com\" >Complex Numbers</a></li>\n",
    "        </ul>\n",
    "    <li><a href = \"#op\" >Operators</a></li>\n",
    "        <ul>\n",
    "        <li><a href = \"#as\" >Assignment </a></li>\n",
    "        <li><a href = \"#ar\" >Arithmetic </a></li>\n",
    "        <li><a href = \"#comp\" >Comparison </a></li>\n",
    "        <li><a href = \"#boo\" >Boolean</a></li>\n",
    "        <li><a href = \"#bit\" >Bitwise</a></li>\n",
    "        <li><a href = \"#isin\" >is and in operators</a></li>\n",
    "        <li><a href = \"#ter\" >Ternary</a></li>\n",
    "        </ul>\n",
    "    <li><a href = \"#st\" >Strings</a></li>\n",
    "        <ul>\n",
    "        <li><a href = \"#strm\" >String Methods</a></li>\n",
    "        <li><a href = \"#esc\" >Escaping Characters</a></li>\n",
    "        <li><a href = \"#strs\" >String Characters & Slicing</a></li>\n",
    "        </ul>\n",
    "    <li><a href = \"#en\" >Enums</a></li>\n",
    "    <li><a href = \"#us\" >User Input</a></li>\n",
    "    <li><a href = \"#con\" >Control Statements (if/else)</a></li>\n",
    "    <li><a href = \"#datas\" >Data Structures</a></li>\n",
    "        <ul>\n",
    "        <li><a href = \"#lis\" >Lists</a></li>\n",
    "            <ul>\n",
    "            <li><a href = \"#sort\" >Sorting Lists</a></li>\n",
    "            </ul>\n",
    "        <li><a href = \"#tuples\" >Tuples</a></li>\n",
    "        </ul>\n",
    "</ul>"
   ]
  },
  {
   "cell_type": "markdown",
   "id": "a6156ec4",
   "metadata": {},
   "source": [
    "<a id='Comm'></a>\n",
    "### Comments\n",
    "\n",
    "Comments can be very useful in programming and are used to give additional information about a program. \n",
    "\n",
    "Comments are normally ignored by a program. This means there will be no output or error message after compilation.\n",
    "\n",
    "Comments in python are indicated by the `#` sign"
   ]
  },
  {
   "cell_type": "code",
   "execution_count": 1,
   "id": "88c8de00",
   "metadata": {},
   "outputs": [],
   "source": [
    "#This is an example of a comment "
   ]
  },
  {
   "cell_type": "markdown",
   "id": "1ebab776",
   "metadata": {},
   "source": [
    "<a id='var'></a>\n",
    "### Variables"
   ]
  },
  {
   "cell_type": "markdown",
   "id": "6596e3da",
   "metadata": {},
   "source": [
    "Imagine we have a box, we name the box age. Inside the box we put 39 balls. The box name, age, is the variable name while the 39 balls is the value or variable.\n",
    "\n",
    "Variables are assigned values using the equal sign character `=`. Variable name can consists of numbers `0-9`, characters `A-Z, a-z`, and underscore `_`. \n",
    "\n",
    "Python is case sensitive so the variable name can only start with a small letter `vehicle` or the variable can be all capital letters `VEHICLE` but cannot start with a capital letter followed with small letters `Vehicle`. \n",
    "\n",
    "Variable names can start with an underscore. However it cannot start with a number.\n",
    "\n",
    "When underscores are used to separate two words.\n",
    "\n",
    "There are special key words used in python that cannot be used when creating variables such as `for`, `if`, `import`, `while`."
   ]
  },
  {
   "cell_type": "code",
   "execution_count": 2,
   "id": "85f32313",
   "metadata": {},
   "outputs": [],
   "source": [
    "age = 39\n",
    "my_name = \"Agnes\" # name is the variable name while Agnes is the variable/value"
   ]
  },
  {
   "cell_type": "markdown",
   "id": "a8a08592",
   "metadata": {},
   "source": [
    "<a id='ex'></a>\n",
    "### Expressions and statements"
   ]
  },
  {
   "cell_type": "markdown",
   "id": "ed6da4dd",
   "metadata": {},
   "source": [
    "Expressions are any code that returns a value"
   ]
  },
  {
   "cell_type": "code",
   "execution_count": 3,
   "id": "b4cdf830",
   "metadata": {},
   "outputs": [
    {
     "data": {
      "text/plain": [
       "2"
      ]
     },
     "execution_count": 3,
     "metadata": {},
     "output_type": "execute_result"
    }
   ],
   "source": [
    "1+1"
   ]
  },
  {
   "cell_type": "code",
   "execution_count": 4,
   "id": "14c9d1d3",
   "metadata": {},
   "outputs": [
    {
     "data": {
      "text/plain": [
       "'Agnes'"
      ]
     },
     "execution_count": 4,
     "metadata": {},
     "output_type": "execute_result"
    }
   ],
   "source": [
    "'Agnes'"
   ]
  },
  {
   "cell_type": "markdown",
   "id": "a6047f93",
   "metadata": {},
   "source": [
    "Statements do operations on values. "
   ]
  },
  {
   "cell_type": "code",
   "execution_count": 5,
   "id": "866ab005",
   "metadata": {},
   "outputs": [
    {
     "name": "stdout",
     "output_type": "stream",
     "text": [
      "Agnes\n"
     ]
    }
   ],
   "source": [
    "my_name = \"Agnes\" # This is a statement because we are doing an operation of \n",
    "                  # assigning the value Agnes to a variable name called my_name\n",
    "    \n",
    "print(my_name)# This is also a statement because we are doing an operation of printing the value Agnes as an output"
   ]
  },
  {
   "cell_type": "markdown",
   "id": "b23d3732",
   "metadata": {},
   "source": [
    "Programs consists of statements. Each statement is placed on its own line as seen above. However statements can be placed on one line by the use of a semicolon `;`"
   ]
  },
  {
   "cell_type": "code",
   "execution_count": 6,
   "id": "8513478c",
   "metadata": {},
   "outputs": [
    {
     "name": "stdout",
     "output_type": "stream",
     "text": [
      "Agnes\n"
     ]
    }
   ],
   "source": [
    "my_name = 'Agnes'; print(my_name)"
   ]
  },
  {
   "cell_type": "markdown",
   "id": "17f0d8c9",
   "metadata": {},
   "source": [
    "<a id='data'></a>\n",
    "### Data types"
   ]
  },
  {
   "cell_type": "markdown",
   "id": "36447388",
   "metadata": {},
   "source": [
    "There are several types of data types:\n",
    "\n",
    "1. String indicated as `str`. These are a set of alphabet characters `A-Z, a-z`. Strings are always declared using double `\" \"` or single quotes `' '`.\n",
    "\n",
    "2. Float indicated as `float`. These are numbers that have deciaml points e.g `2.9`.\n",
    "\n",
    "3. Integer indicated as `int`. These are numbers `0-9` that do not have a decimal point.\n",
    "\n",
    "4. Boolean indicated as `bool`. This returns either `True` or `False` depending on the statement."
   ]
  },
  {
   "cell_type": "markdown",
   "id": "56fb61d3",
   "metadata": {},
   "source": [
    "Python has an inbuilt funtion called `type` that enables one to know the data type of a value"
   ]
  },
  {
   "cell_type": "code",
   "execution_count": 7,
   "id": "a42ce309",
   "metadata": {},
   "outputs": [
    {
     "name": "stdout",
     "output_type": "stream",
     "text": [
      "<class 'str'>\n"
     ]
    }
   ],
   "source": [
    "name = \"Agnes\"\n",
    "print(type(name)) # We use the print funtion to dispaly the output."
   ]
  },
  {
   "cell_type": "markdown",
   "id": "cd0af342",
   "metadata": {},
   "source": [
    "> We can see the output is the data type string."
   ]
  },
  {
   "cell_type": "markdown",
   "id": "ddda23b1",
   "metadata": {},
   "source": [
    "One can compare the value/variable to data type which will output a boolean `True` if it matches or `False` if it does not.\n",
    "\n",
    "The example below will be checking if the value is a float"
   ]
  },
  {
   "cell_type": "code",
   "execution_count": 8,
   "id": "b02f75ed",
   "metadata": {},
   "outputs": [
    {
     "name": "stdout",
     "output_type": "stream",
     "text": [
      "False\n"
     ]
    }
   ],
   "source": [
    "age = 30\n",
    "print(type(age) == float)"
   ]
  },
  {
   "cell_type": "markdown",
   "id": "227044de",
   "metadata": {},
   "source": [
    "> We can see the output is False. 10 is an integer not a float. "
   ]
  },
  {
   "cell_type": "markdown",
   "id": "5a49f190",
   "metadata": {},
   "source": [
    "There is another function that does the same operation called `isinstance`. This gives a boolean output."
   ]
  },
  {
   "cell_type": "code",
   "execution_count": 9,
   "id": "cd278379",
   "metadata": {},
   "outputs": [
    {
     "name": "stdout",
     "output_type": "stream",
     "text": [
      "False\n"
     ]
    }
   ],
   "source": [
    "age = 30\n",
    "print(isinstance(age, str))"
   ]
  },
  {
   "cell_type": "markdown",
   "id": "e8e07c0e",
   "metadata": {},
   "source": [
    "> We can see the output is false because the 30 is and integer not a string."
   ]
  },
  {
   "cell_type": "markdown",
   "id": "d421cbfd",
   "metadata": {},
   "source": [
    "<a id='bool'></a>\n",
    "**Boolean**\n",
    "\n",
    "Strings, tuples, lists and dictioneries are false when they are empty"
   ]
  },
  {
   "cell_type": "code",
   "execution_count": 10,
   "id": "664c963f",
   "metadata": {},
   "outputs": [
    {
     "name": "stdout",
     "output_type": "stream",
     "text": [
      "no\n"
     ]
    }
   ],
   "source": [
    "saying = \"\"\n",
    "\n",
    "if saying:\n",
    "    print(\"yes\")\n",
    "else:\n",
    "    print(\"no\")"
   ]
  },
  {
   "cell_type": "code",
   "execution_count": 11,
   "id": "24897835",
   "metadata": {},
   "outputs": [
    {
     "name": "stdout",
     "output_type": "stream",
     "text": [
      "yes\n"
     ]
    }
   ],
   "source": [
    "saying2 = \"Yasssss\"\n",
    "\n",
    "if saying2:\n",
    "    print(\"yes\")\n",
    "else:\n",
    "    print(\"no\")"
   ]
  },
  {
   "cell_type": "markdown",
   "id": "562d98eb",
   "metadata": {},
   "source": [
    "Numbers are false only when it is zero"
   ]
  },
  {
   "cell_type": "code",
   "execution_count": 12,
   "id": "32af7f97",
   "metadata": {},
   "outputs": [
    {
     "name": "stdout",
     "output_type": "stream",
     "text": [
      "no\n"
     ]
    }
   ],
   "source": [
    "count = 0\n",
    "\n",
    "if count:\n",
    "    print(\"yes\")\n",
    "else:\n",
    "    print(\"no\")"
   ]
  },
  {
   "cell_type": "code",
   "execution_count": 13,
   "id": "8d351b08",
   "metadata": {},
   "outputs": [
    {
     "name": "stdout",
     "output_type": "stream",
     "text": [
      "yes\n"
     ]
    }
   ],
   "source": [
    "count2 = 143482\n",
    "\n",
    "if count2:\n",
    "    print(\"yes\")\n",
    "else:\n",
    "    print(\"no\")"
   ]
  },
  {
   "cell_type": "code",
   "execution_count": 14,
   "id": "944ac735",
   "metadata": {},
   "outputs": [
    {
     "name": "stdout",
     "output_type": "stream",
     "text": [
      "yes\n"
     ]
    }
   ],
   "source": [
    "count3 = -3\n",
    "\n",
    "if count3:\n",
    "    print(\"yes\")\n",
    "else:\n",
    "    print(\"no\")"
   ]
  },
  {
   "cell_type": "markdown",
   "id": "34743866",
   "metadata": {},
   "source": [
    "`any` and `all` are functions used in boolean because it gives either a True or False output. `any` will give a True when either of the options is True"
   ]
  },
  {
   "cell_type": "code",
   "execution_count": 15,
   "id": "cf76ba89",
   "metadata": {},
   "outputs": [
    {
     "data": {
      "text/plain": [
       "True"
      ]
     },
     "execution_count": 15,
     "metadata": {},
     "output_type": "execute_result"
    }
   ],
   "source": [
    "book1_read = True\n",
    "book2_read = False\n",
    "read_any_book = any([book1_read, book2_read])\n",
    "read_any_book"
   ]
  },
  {
   "cell_type": "markdown",
   "id": "f0029457",
   "metadata": {},
   "source": [
    "`all` will give a True when both of the options are True"
   ]
  },
  {
   "cell_type": "code",
   "execution_count": 16,
   "id": "b839d932",
   "metadata": {},
   "outputs": [
    {
     "data": {
      "text/plain": [
       "False"
      ]
     },
     "execution_count": 16,
     "metadata": {},
     "output_type": "execute_result"
    }
   ],
   "source": [
    "book3_read = True\n",
    "book4_read = False\n",
    "read_any_book1 = all([book3_read, book4_read])\n",
    "read_any_book1"
   ]
  },
  {
   "cell_type": "markdown",
   "id": "6408c220",
   "metadata": {},
   "source": [
    "<a id='com'></a>\n",
    "**Complex numbers**"
   ]
  },
  {
   "cell_type": "markdown",
   "id": "c9ce87db",
   "metadata": {},
   "source": [
    "Complex numbers are numbers expressed as a sum of a real part and an immaginary part. The immaginary part is normaly the square root of -1 and is denoted as i (in math) or j (in engineering)"
   ]
  },
  {
   "cell_type": "markdown",
   "id": "2b1ede72",
   "metadata": {},
   "source": [
    "Complex numbers can be declared in two different ways:"
   ]
  },
  {
   "cell_type": "code",
   "execution_count": 17,
   "id": "b602ceae",
   "metadata": {},
   "outputs": [
    {
     "name": "stdout",
     "output_type": "stream",
     "text": [
      "2.0 3.0\n"
     ]
    }
   ],
   "source": [
    "num1 = 2+3j\n",
    "num2 = complex(2,3) #This is an example of a constructor\n",
    "print(num2.real, num2.imag)"
   ]
  },
  {
   "cell_type": "markdown",
   "id": "9c48a553",
   "metadata": {},
   "source": [
    "<a id='op'></a>\n",
    "### Operators"
   ]
  },
  {
   "cell_type": "markdown",
   "id": "c2a88d9e",
   "metadata": {},
   "source": [
    "<a id='as'></a>\n",
    "**1. Assignment operator `=` - Used to assign the variables to variable names** "
   ]
  },
  {
   "cell_type": "code",
   "execution_count": 18,
   "id": "5e1d6967",
   "metadata": {},
   "outputs": [],
   "source": [
    "age = 20"
   ]
  },
  {
   "cell_type": "markdown",
   "id": "5e29e774",
   "metadata": {},
   "source": [
    "<a id='ar'></a>\n",
    "**2. Arithmetic operator `+, -, *, /` - Used in basic arithmetic/math operations.**"
   ]
  },
  {
   "cell_type": "code",
   "execution_count": 19,
   "id": "f2b83485",
   "metadata": {},
   "outputs": [
    {
     "data": {
      "text/plain": [
       "2"
      ]
     },
     "execution_count": 19,
     "metadata": {},
     "output_type": "execute_result"
    }
   ],
   "source": [
    "1 + 1 # Addition"
   ]
  },
  {
   "cell_type": "markdown",
   "id": "c2c0db81",
   "metadata": {},
   "source": [
    "`+` Can also be used to concatenate strings"
   ]
  },
  {
   "cell_type": "code",
   "execution_count": 20,
   "id": "b50c9c3b",
   "metadata": {},
   "outputs": [
    {
     "name": "stdout",
     "output_type": "stream",
     "text": [
      "Can you fly?\n"
     ]
    }
   ],
   "source": [
    "print(\"Can\" + \" you fly?\")"
   ]
  },
  {
   "cell_type": "code",
   "execution_count": 21,
   "id": "e6700858",
   "metadata": {},
   "outputs": [
    {
     "data": {
      "text/plain": [
       "0"
      ]
     },
     "execution_count": 21,
     "metadata": {},
     "output_type": "execute_result"
    }
   ],
   "source": [
    "2 - 2 # Subtraction"
   ]
  },
  {
   "cell_type": "markdown",
   "id": "02e398d2",
   "metadata": {},
   "source": [
    "`-` Can be used to make a number negative"
   ]
  },
  {
   "cell_type": "code",
   "execution_count": 22,
   "id": "ec2b0ab3",
   "metadata": {},
   "outputs": [
    {
     "data": {
      "text/plain": [
       "4"
      ]
     },
     "execution_count": 22,
     "metadata": {},
     "output_type": "execute_result"
    }
   ],
   "source": [
    "2 - -2"
   ]
  },
  {
   "cell_type": "code",
   "execution_count": 23,
   "id": "6be4a985",
   "metadata": {},
   "outputs": [
    {
     "data": {
      "text/plain": [
       "4"
      ]
     },
     "execution_count": 23,
     "metadata": {},
     "output_type": "execute_result"
    }
   ],
   "source": [
    "2 * 2 # Multiplication"
   ]
  },
  {
   "cell_type": "code",
   "execution_count": 24,
   "id": "1c0d0291",
   "metadata": {},
   "outputs": [
    {
     "data": {
      "text/plain": [
       "3.0"
      ]
     },
     "execution_count": 24,
     "metadata": {},
     "output_type": "execute_result"
    }
   ],
   "source": [
    "6 / 2 #Division"
   ]
  },
  {
   "cell_type": "code",
   "execution_count": 25,
   "id": "b13333c6",
   "metadata": {},
   "outputs": [
    {
     "data": {
      "text/plain": [
       "1"
      ]
     },
     "execution_count": 25,
     "metadata": {},
     "output_type": "execute_result"
    }
   ],
   "source": [
    "4 % 3 # Finding the remainder"
   ]
  },
  {
   "cell_type": "code",
   "execution_count": 26,
   "id": "59d4b90c",
   "metadata": {},
   "outputs": [
    {
     "data": {
      "text/plain": [
       "16"
      ]
     },
     "execution_count": 26,
     "metadata": {},
     "output_type": "execute_result"
    }
   ],
   "source": [
    "4 ** 2 # Exponents/ power"
   ]
  },
  {
   "cell_type": "code",
   "execution_count": 27,
   "id": "e76fd326",
   "metadata": {},
   "outputs": [
    {
     "data": {
      "text/plain": [
       "2"
      ]
     },
     "execution_count": 27,
     "metadata": {},
     "output_type": "execute_result"
    }
   ],
   "source": [
    "5 // 2 # Floor division - the answer is rounded down to the nearest whole number"
   ]
  },
  {
   "cell_type": "markdown",
   "id": "0ae2a8ca",
   "metadata": {},
   "source": [
    "Arithmetic and assignment operators can be used together"
   ]
  },
  {
   "cell_type": "code",
   "execution_count": 28,
   "id": "96f942e7",
   "metadata": {},
   "outputs": [
    {
     "name": "stdout",
     "output_type": "stream",
     "text": [
      "20\n"
     ]
    }
   ],
   "source": [
    "age = 16\n",
    "age += 4 # age = age + 4\n",
    "print(age)"
   ]
  },
  {
   "cell_type": "markdown",
   "id": "30621ee1",
   "metadata": {},
   "source": [
    "<a id='comp'></a>\n",
    "**3. Comparison Operators `==, !=, <, >, <=, >=`- Gives a boolean output**"
   ]
  },
  {
   "cell_type": "code",
   "execution_count": 29,
   "id": "ce61b89b",
   "metadata": {},
   "outputs": [],
   "source": [
    "a = 1\n",
    "b = 3"
   ]
  },
  {
   "cell_type": "code",
   "execution_count": 30,
   "id": "84d25f46",
   "metadata": {},
   "outputs": [
    {
     "data": {
      "text/plain": [
       "False"
      ]
     },
     "execution_count": 30,
     "metadata": {},
     "output_type": "execute_result"
    }
   ],
   "source": [
    "a == b # Checks if a and b are equal to each other"
   ]
  },
  {
   "cell_type": "code",
   "execution_count": 31,
   "id": "b0a9dabc",
   "metadata": {},
   "outputs": [
    {
     "data": {
      "text/plain": [
       "True"
      ]
     },
     "execution_count": 31,
     "metadata": {},
     "output_type": "execute_result"
    }
   ],
   "source": [
    "a != b # Checks if a and b are not equal to each other"
   ]
  },
  {
   "cell_type": "code",
   "execution_count": 32,
   "id": "3c26a4e3",
   "metadata": {},
   "outputs": [
    {
     "data": {
      "text/plain": [
       "True"
      ]
     },
     "execution_count": 32,
     "metadata": {},
     "output_type": "execute_result"
    }
   ],
   "source": [
    "a < b # Checks if a is less than b"
   ]
  },
  {
   "cell_type": "code",
   "execution_count": 33,
   "id": "82f77975",
   "metadata": {},
   "outputs": [
    {
     "data": {
      "text/plain": [
       "False"
      ]
     },
     "execution_count": 33,
     "metadata": {},
     "output_type": "execute_result"
    }
   ],
   "source": [
    "a > b # Checks if a is greater than b"
   ]
  },
  {
   "cell_type": "code",
   "execution_count": 34,
   "id": "d25701a3",
   "metadata": {},
   "outputs": [
    {
     "data": {
      "text/plain": [
       "True"
      ]
     },
     "execution_count": 34,
     "metadata": {},
     "output_type": "execute_result"
    }
   ],
   "source": [
    "a <= b # Checks if a is less than or equal to b"
   ]
  },
  {
   "cell_type": "code",
   "execution_count": 35,
   "id": "29ce7d7d",
   "metadata": {},
   "outputs": [
    {
     "data": {
      "text/plain": [
       "False"
      ]
     },
     "execution_count": 35,
     "metadata": {},
     "output_type": "execute_result"
    }
   ],
   "source": [
    "a >= b # Checks if a is greater than or equal to b"
   ]
  },
  {
   "cell_type": "markdown",
   "id": "b57eca42",
   "metadata": {},
   "source": [
    "<a id='boo'></a>\n",
    "**4. Boolean Operator - `and, not, or`**"
   ]
  },
  {
   "cell_type": "code",
   "execution_count": 36,
   "id": "d588b91b",
   "metadata": {},
   "outputs": [],
   "source": [
    "condition1 = True\n",
    "condition2 = False"
   ]
  },
  {
   "cell_type": "code",
   "execution_count": 37,
   "id": "04b01ff5",
   "metadata": {},
   "outputs": [
    {
     "data": {
      "text/plain": [
       "True"
      ]
     },
     "execution_count": 37,
     "metadata": {},
     "output_type": "execute_result"
    }
   ],
   "source": [
    "not condition2 # not checks if the condition is not True"
   ]
  },
  {
   "cell_type": "code",
   "execution_count": 38,
   "id": "b912858e",
   "metadata": {},
   "outputs": [
    {
     "data": {
      "text/plain": [
       "False"
      ]
     },
     "execution_count": 38,
     "metadata": {},
     "output_type": "execute_result"
    }
   ],
   "source": [
    "condition1 and condition2 # Checks if both conditions are True"
   ]
  },
  {
   "cell_type": "code",
   "execution_count": 39,
   "id": "e522d7b9",
   "metadata": {},
   "outputs": [
    {
     "data": {
      "text/plain": [
       "True"
      ]
     },
     "execution_count": 39,
     "metadata": {},
     "output_type": "execute_result"
    }
   ],
   "source": [
    "condition1 or condition2 # Checks if one of the conditions are True"
   ]
  },
  {
   "cell_type": "markdown",
   "id": "b1e53010",
   "metadata": {},
   "source": [
    "<a id='bit'></a>\n",
    "**5. Bitwise operators `&, |, ^, ~, <<, >>`**"
   ]
  },
  {
   "cell_type": "markdown",
   "id": "d1f3b41e",
   "metadata": {},
   "source": [
    "`&` - Performs binary AND\n",
    "\n",
    "`|` - Performs binary OR\n",
    "\n",
    "`^` - Performs binary XOR\n",
    "\n",
    "`~` - Performs binary NOT\n",
    "\n",
    "`<<` - Shift left operation\n",
    "\n",
    "`>>`- Shift right operation"
   ]
  },
  {
   "cell_type": "markdown",
   "id": "910511df",
   "metadata": {},
   "source": [
    "<a id='isin'></a>\n",
    "**6. `is` and `in` operators**"
   ]
  },
  {
   "cell_type": "markdown",
   "id": "b1f2cd7a",
   "metadata": {},
   "source": [
    "`is` operator is also known as the identity operator. It is used to compare two objects and returns True if both objects are the same. Covered in-depth under objects"
   ]
  },
  {
   "cell_type": "markdown",
   "id": "33c601f6",
   "metadata": {},
   "source": [
    "`in` operator is also known as the membership operator. It is used to check if a value is in a list. Covered in-depth under lists"
   ]
  },
  {
   "cell_type": "markdown",
   "id": "3c4019d6",
   "metadata": {},
   "source": [
    "<a id='ter'></a>\n",
    "**7. Ternary operator - Used to put if else statements in one line**"
   ]
  },
  {
   "cell_type": "code",
   "execution_count": 40,
   "id": "406dffa6",
   "metadata": {},
   "outputs": [
    {
     "name": "stdout",
     "output_type": "stream",
     "text": [
      "False\n"
     ]
    }
   ],
   "source": [
    "# Normal if-else loop to check for age\n",
    "age = 16\n",
    "\n",
    "def isadult(age):\n",
    "    if age > 18:\n",
    "        return True\n",
    "    else:\n",
    "        return False\n",
    "    \n",
    "check = isadult(age)   \n",
    "print(check)"
   ]
  },
  {
   "cell_type": "code",
   "execution_count": 41,
   "id": "f3ac6ebd",
   "metadata": {},
   "outputs": [
    {
     "name": "stdout",
     "output_type": "stream",
     "text": [
      "False\n"
     ]
    }
   ],
   "source": [
    "# Checking for the age using a ternary operator `if`\n",
    "def isadult2(age):\n",
    "    return True if age > 18 else False\n",
    "\n",
    "check2 = isadult2(age)\n",
    "print(check2)"
   ]
  },
  {
   "cell_type": "markdown",
   "id": "f545c478",
   "metadata": {},
   "source": [
    "<a id='st'></a>\n",
    "### Strings"
   ]
  },
  {
   "cell_type": "markdown",
   "id": "e2e70ed9",
   "metadata": {},
   "source": [
    "Strings are data types that are defined using quotation marks. Both quotation marks can be used. `\"\", '',`"
   ]
  },
  {
   "cell_type": "code",
   "execution_count": 42,
   "id": "ad5f5200",
   "metadata": {},
   "outputs": [
    {
     "name": "stdout",
     "output_type": "stream",
     "text": [
      "Agnes\n",
      "Wangechi\n",
      "My name is Agnes Wangechi\n"
     ]
    }
   ],
   "source": [
    "name = 'Agnes'\n",
    "print(name)\n",
    "\n",
    "name2 = \"Wangechi\"\n",
    "print(name2)\n",
    "\n",
    "print(\"My name is \" + name + \" \" + name2) # This example shows concatenation in strings"
   ]
  },
  {
   "cell_type": "markdown",
   "id": "d9a3c6d8",
   "metadata": {},
   "source": [
    "Triple quotes can be used to place a sentence/ paragraph because it is used in multiline scenarios."
   ]
  },
  {
   "cell_type": "code",
   "execution_count": 43,
   "id": "c809b635",
   "metadata": {},
   "outputs": [
    {
     "name": "stdout",
     "output_type": "stream",
     "text": [
      " Agnes is a girl.\n",
      "she loves to code\n",
      "she is short\n"
     ]
    }
   ],
   "source": [
    "print(\"\"\" Agnes is a girl.\n",
    "she loves to code\n",
    "she is short\"\"\")"
   ]
  },
  {
   "cell_type": "markdown",
   "id": "1a54fed5",
   "metadata": {},
   "source": [
    "<a id='strm'></a>\n",
    "**String Methods**"
   ]
  },
  {
   "cell_type": "markdown",
   "id": "76e0c394",
   "metadata": {},
   "source": [
    "Python has a set of in-built methods that can be used by strings. The following indicates just a few types of string methods:\n",
    "\n",
    "1. isalpha() - Checks if a strings has characters only and is not empty\n",
    "2. isalnum() - Checks if a strings has characters or digits and is not empty\n",
    "3. isdecimal() - Checks if a strings has digits only and is not empty\n",
    "4. lower() - To get the lowercase version of a string\n",
    "5. islower() - Check if the string is lowercase\n",
    "6. upper() - To get the uppercase version of a string\n",
    "7. isupper() - Check if the string is uppercase\n",
    "8. title() - Capitalizes the first letter of each string\n",
    "9. startswith() - Checks if the string starts with a specific substring\n",
    "10. endswith() - Checks if the string ends with a specific substring\n",
    "11. replace() - Replace a part of the string\n",
    "12. split() - Split a string on a specific character separator\n",
    "13. strip() - To trim whitespace from a string\n",
    "14. join() - append new letters to a string\n",
    "15. find() - find the position of a substring"
   ]
  },
  {
   "cell_type": "markdown",
   "id": "153c175b",
   "metadata": {},
   "source": [
    "All these methods do not alter the initial string but provides a new version of the string"
   ]
  },
  {
   "cell_type": "code",
   "execution_count": 44,
   "id": "def340be",
   "metadata": {},
   "outputs": [
    {
     "name": "stdout",
     "output_type": "stream",
     "text": [
      "agnes\n",
      "AGNES\n"
     ]
    }
   ],
   "source": [
    "# Example\n",
    "name = 'AGNES'\n",
    "print(name.lower()) # Modified string\n",
    "print(name) # Original string"
   ]
  },
  {
   "cell_type": "markdown",
   "id": "1b14beff",
   "metadata": {},
   "source": [
    "We can use the global function `len` to check the length of a string"
   ]
  },
  {
   "cell_type": "code",
   "execution_count": 45,
   "id": "f1bfafe5",
   "metadata": {},
   "outputs": [
    {
     "name": "stdout",
     "output_type": "stream",
     "text": [
      "8\n"
     ]
    }
   ],
   "source": [
    "name = \"Wangechi\"\n",
    "print(len(name))"
   ]
  },
  {
   "cell_type": "markdown",
   "id": "631844aa",
   "metadata": {},
   "source": [
    "We can use the in operator to check a substing in a string"
   ]
  },
  {
   "cell_type": "code",
   "execution_count": 46,
   "id": "01fd94e5",
   "metadata": {},
   "outputs": [
    {
     "name": "stdout",
     "output_type": "stream",
     "text": [
      "True\n"
     ]
    }
   ],
   "source": [
    "name = \"catttt\"\n",
    "print(\"at\" in name)"
   ]
  },
  {
   "cell_type": "markdown",
   "id": "b07b0cd0",
   "metadata": {},
   "source": [
    "<a id='esc'></a>\n",
    "**Escaping Characters**"
   ]
  },
  {
   "cell_type": "markdown",
   "id": "b114dfe2",
   "metadata": {},
   "source": [
    "This is a way of adding special characters in a string"
   ]
  },
  {
   "cell_type": "code",
   "execution_count": 47,
   "id": "ff87ee29",
   "metadata": {},
   "outputs": [
    {
     "name": "stdout",
     "output_type": "stream",
     "text": [
      "I'm a cow\n"
     ]
    }
   ],
   "source": [
    "# Example\n",
    "print('I\\'m a cow') # the backslash indicates that the next character in the string is part of the string\n",
    "# Without the backslash, it will print only letter `I`"
   ]
  },
  {
   "cell_type": "code",
   "execution_count": 48,
   "id": "477f01c7",
   "metadata": {},
   "outputs": [
    {
     "name": "stdout",
     "output_type": "stream",
     "text": [
      "You can only choose eggs\\bacon\n"
     ]
    }
   ],
   "source": [
    "print('You can only choose eggs\\\\bacon')"
   ]
  },
  {
   "cell_type": "markdown",
   "id": "d3127265",
   "metadata": {},
   "source": [
    "<a id='strs'></a>\n",
    "**String Characters & Slicing**"
   ]
  },
  {
   "cell_type": "markdown",
   "id": "82f2375c",
   "metadata": {},
   "source": [
    "One can find a specific part of a string using indexing. The first letter in a string is normally the zero [0] index. It is counted from 0 not 1 \n"
   ]
  },
  {
   "cell_type": "code",
   "execution_count": 49,
   "id": "16401f8e",
   "metadata": {},
   "outputs": [
    {
     "name": "stdout",
     "output_type": "stream",
     "text": [
      "Y\n",
      "o\n",
      "ou a\n",
      " are a cow\n",
      "You are\n"
     ]
    }
   ],
   "source": [
    "message = \"You are a cow\"\n",
    "print(message[0]) # Checks the zero index\n",
    "print(message[1]) # Checks the first index\n",
    "print(message[1:5]) # Checks from the first index to the fifth index\n",
    "print(message[3:]) # Checks from the third index to the last\n",
    "print(message[:7]) # Checks from the zero index to the seventh index\n"
   ]
  },
  {
   "cell_type": "markdown",
   "id": "affa9957",
   "metadata": {},
   "source": [
    "<a id='en'></a>\n",
    "### Enums"
   ]
  },
  {
   "cell_type": "markdown",
   "id": "011c32f4",
   "metadata": {},
   "source": [
    "Enums is a python module used for setting constants in a program"
   ]
  },
  {
   "cell_type": "code",
   "execution_count": 50,
   "id": "0b63ac1b",
   "metadata": {},
   "outputs": [
    {
     "name": "stdout",
     "output_type": "stream",
     "text": [
      "1\n",
      "State.ACTIVE\n",
      "[<State.INACTIVE: 0>, <State.ACTIVE: 1>]\n"
     ]
    }
   ],
   "source": [
    "from enum import Enum\n",
    "\n",
    "class State(Enum):\n",
    "    INACTIVE = 0\n",
    "    ACTIVE = 1\n",
    "\n",
    "print(State.ACTIVE.value) #Prints the value of the ACTIVE constant\n",
    "print(State.ACTIVE)# Prints the name State.ACTIVE\n",
    "print(list(State)) #Prints the values in the state"
   ]
  },
  {
   "cell_type": "markdown",
   "id": "90f855f9",
   "metadata": {},
   "source": [
    "<a id='us'></a>\n",
    "### User Input"
   ]
  },
  {
   "cell_type": "markdown",
   "id": "e97870b6",
   "metadata": {},
   "source": [
    "input function is used to get information from the user"
   ]
  },
  {
   "cell_type": "code",
   "execution_count": 51,
   "id": "c4323f4f",
   "metadata": {},
   "outputs": [
    {
     "name": "stdout",
     "output_type": "stream",
     "text": [
      "What is your age? \n",
      "WOAH! you are  years old??????????\n"
     ]
    }
   ],
   "source": [
    "age = (input(\"What is your age? \"))\n",
    "print(\"WOAH! you are\", age, \"years old??????????\")"
   ]
  },
  {
   "cell_type": "markdown",
   "id": "67c8e4a0",
   "metadata": {},
   "source": [
    "<a id='con'></a>\n",
    "### Control Statements"
   ]
  },
  {
   "cell_type": "markdown",
   "id": "2ed24d7d",
   "metadata": {},
   "source": [
    "Control statements are just if else loops"
   ]
  },
  {
   "cell_type": "code",
   "execution_count": 52,
   "id": "32f031ab",
   "metadata": {},
   "outputs": [
    {
     "name": "stdout",
     "output_type": "stream",
     "text": [
      "Oh no! I didn't get your name\n"
     ]
    }
   ],
   "source": [
    "name = \" \"\n",
    "\n",
    "if name == \"Cow\":\n",
    "    print(\"Hello\", name)\n",
    "    \n",
    "elif name == \"Sheep\":\n",
    "    print(\"Hello\", name)\n",
    "else:\n",
    "    print(\"Oh no! I didn't get your name\")"
   ]
  },
  {
   "cell_type": "markdown",
   "id": "8d2c4ba7",
   "metadata": {},
   "source": [
    "<a id='datas'></a>\n",
    "### Data Structures: "
   ]
  },
  {
   "cell_type": "markdown",
   "id": "e788f371",
   "metadata": {},
   "source": [
    "<a id='lis'></a>\n",
    "### Lists"
   ]
  },
  {
   "cell_type": "markdown",
   "id": "d3ed5870",
   "metadata": {},
   "source": [
    "Lists is an example of a data structure in python. Lists can hold many data types."
   ]
  },
  {
   "cell_type": "code",
   "execution_count": 53,
   "id": "3d98fa84",
   "metadata": {},
   "outputs": [
    {
     "name": "stdout",
     "output_type": "stream",
     "text": [
      "True\n"
     ]
    }
   ],
   "source": [
    "dogs = ['SAYD', 4, 'ROBERT', True, 'MAIN', 'kyleo', 5, False]\n",
    "\n",
    "# As earlier discussed in is an operator used in lists to check if a value is in a list\n",
    "print(\"ROBERT\" in dogs) #Check if ROBERT is in the list"
   ]
  },
  {
   "cell_type": "code",
   "execution_count": 54,
   "id": "ac7fcb89",
   "metadata": {},
   "outputs": [
    {
     "name": "stdout",
     "output_type": "stream",
     "text": [
      "SAYD\n",
      "ROBERT\n",
      "False\n"
     ]
    }
   ],
   "source": [
    "# One can acces an item in a list by using referencing\n",
    "print(dogs[0])\n",
    "print(dogs[2])\n",
    "print(dogs[-1]) #Returns the last value in a list"
   ]
  },
  {
   "cell_type": "code",
   "execution_count": 55,
   "id": "f8854caa",
   "metadata": {},
   "outputs": [
    {
     "name": "stdout",
     "output_type": "stream",
     "text": [
      "['SAYD', 4, 'cowwwwww', True, 'MAIN', 'kyleo', 5, False]\n"
     ]
    }
   ],
   "source": [
    "#One can update a value in a list by using referencing too\n",
    "dogs[2] = \"cowwwwww\"\n",
    "print(dogs)"
   ]
  },
  {
   "cell_type": "code",
   "execution_count": 56,
   "id": "4c18842f",
   "metadata": {},
   "outputs": [
    {
     "name": "stdout",
     "output_type": "stream",
     "text": [
      "['SAYD', 4, 'cowwwwww', True]\n"
     ]
    }
   ],
   "source": [
    "#One can access a section of a list\n",
    "print(dogs[0:4])"
   ]
  },
  {
   "cell_type": "code",
   "execution_count": 57,
   "id": "72bb03bd",
   "metadata": {},
   "outputs": [
    {
     "name": "stdout",
     "output_type": "stream",
     "text": [
      "['SAYD', 4, 'cowwwwww', True, 'MAIN', 'kyleo', 5]\n"
     ]
    }
   ],
   "source": [
    "#Access the list from the zero position to seventh position\n",
    "print(dogs[:7])"
   ]
  },
  {
   "cell_type": "code",
   "execution_count": 58,
   "id": "b38ab49f",
   "metadata": {},
   "outputs": [
    {
     "name": "stdout",
     "output_type": "stream",
     "text": [
      "[True, 'MAIN', 'kyleo', 5, False]\n"
     ]
    }
   ],
   "source": [
    "#Access the list from the third position to last position\n",
    "print(dogs[3:])"
   ]
  },
  {
   "cell_type": "code",
   "execution_count": 59,
   "id": "55049e29",
   "metadata": {},
   "outputs": [
    {
     "name": "stdout",
     "output_type": "stream",
     "text": [
      "8\n"
     ]
    }
   ],
   "source": [
    "# One can check the number of values in a list using the length function\n",
    "print(len(dogs))"
   ]
  },
  {
   "cell_type": "code",
   "execution_count": 60,
   "id": "30688061",
   "metadata": {},
   "outputs": [
    {
     "name": "stdout",
     "output_type": "stream",
     "text": [
      "['SAYD', 4, 'cowwwwww', True, 'MAIN', 'kyleo', 5, False, 'Judy']\n"
     ]
    }
   ],
   "source": [
    "#One can add values to a list using the append method but only adds one value\n",
    "dogs.append(\"Judy\")\n",
    "print(dogs)"
   ]
  },
  {
   "cell_type": "code",
   "execution_count": 61,
   "id": "1917073a",
   "metadata": {},
   "outputs": [
    {
     "name": "stdout",
     "output_type": "stream",
     "text": [
      "['SAYD', 4, 'cowwwwww', True, 'MAIN', 'kyleo', 5, False, 'Judy', 'Judah', 7, 'beatrice']\n"
     ]
    }
   ],
   "source": [
    "#One can add values to a list using the extend method which can add many values\n",
    "dogs.extend([\"Judah\", 7, \"beatrice\"])\n",
    "print(dogs)"
   ]
  },
  {
   "cell_type": "code",
   "execution_count": 62,
   "id": "4736abb2",
   "metadata": {},
   "outputs": [
    {
     "name": "stdout",
     "output_type": "stream",
     "text": [
      "['SAYD', 4, 'cowwwwww', True, 'MAIN', 'kyleo', 5, False, 'Judy', 'Judah', 7, 'beatrice', 'Nudacris', 'job']\n"
     ]
    }
   ],
   "source": [
    "# The += operator can also be used to add values\n",
    "dogs += [\"Nudacris\", \"job\"]\n",
    "print(dogs)"
   ]
  },
  {
   "cell_type": "code",
   "execution_count": 63,
   "id": "6e5fb6b9",
   "metadata": {},
   "outputs": [
    {
     "name": "stdout",
     "output_type": "stream",
     "text": [
      "['SAYD', 4, 'cowwwwww', True, 'MAIN', 'kyleo', 5, False, 'Judy', 'Judah', 7, 'beatrice', 'Nudacris', 'job', 'j', 'u', 's', 't', 'i', 'n']\n"
     ]
    }
   ],
   "source": [
    "#Make sure you include the square brackets. If not, it will add the letters not entire word\n",
    "dogs += \"justin\"\n",
    "print(dogs)"
   ]
  },
  {
   "cell_type": "code",
   "execution_count": 64,
   "id": "79f34d57",
   "metadata": {},
   "outputs": [
    {
     "name": "stdout",
     "output_type": "stream",
     "text": [
      "['SAYD', 4, 'cowwwwww', True, 'kyleo', 5, False, 'Judy', 'Judah', 7, 'beatrice', 'Nudacris', 'job', 'j', 'u', 's', 't', 'i', 'n']\n"
     ]
    }
   ],
   "source": [
    "# One can remove a value\n",
    "dogs.remove(\"MAIN\")\n",
    "print(dogs)"
   ]
  },
  {
   "cell_type": "code",
   "execution_count": 65,
   "id": "bc8a8143",
   "metadata": {},
   "outputs": [
    {
     "name": "stdout",
     "output_type": "stream",
     "text": [
      "n\n",
      "['SAYD', 4, 'cowwwwww', True, 'kyleo', 5, False, 'Judy', 'Judah', 7, 'beatrice', 'Nudacris', 'job', 'j', 'u', 's', 't', 'i']\n"
     ]
    }
   ],
   "source": [
    "# pop is a function that removes the last item added to the list\n",
    "print(dogs.pop()) # Shows which item is being removed\n",
    "print(dogs)"
   ]
  },
  {
   "cell_type": "code",
   "execution_count": 66,
   "id": "ad08d1c4",
   "metadata": {},
   "outputs": [
    {
     "name": "stdout",
     "output_type": "stream",
     "text": [
      "['YES', 4, 'Test', 'NO', 'do']\n"
     ]
    }
   ],
   "source": [
    "# The insert method is used to add a value at the middle of a list\n",
    "items = [\"YES\", 4, \"NO\", \"do\"]\n",
    "items.insert(2, \"Test\") #Add in the second position\n",
    "print (items)"
   ]
  },
  {
   "cell_type": "code",
   "execution_count": 67,
   "id": "1be283ff",
   "metadata": {},
   "outputs": [
    {
     "name": "stdout",
     "output_type": "stream",
     "text": [
      "['YES', 'Fall1', 'Fall2', 'FALL', 4, 'Test', 'NO', 'do']\n"
     ]
    }
   ],
   "source": [
    "#Or add multiple values\n",
    "items[1:1] = [\"Fall1\", \"Fall2\", \"FALL\"]\n",
    "print(items)"
   ]
  },
  {
   "cell_type": "markdown",
   "id": "85353376",
   "metadata": {},
   "source": [
    "<a id = 'sort'></a>\n",
    "**Sorting List**"
   ]
  },
  {
   "cell_type": "code",
   "execution_count": null,
   "id": "9e86981d",
   "metadata": {},
   "outputs": [],
   "source": []
  },
  {
   "cell_type": "markdown",
   "id": "5dd1d46d",
   "metadata": {},
   "source": [
    "<a id = 'tuples'></a>\n",
    "### Tuples"
   ]
  },
  {
   "cell_type": "markdown",
   "id": "0262ec52",
   "metadata": {},
   "source": [
    "Once a Tuple is created it cannot be altered; nothing can be added to the tuple and nothing can be removed."
   ]
  },
  {
   "cell_type": "code",
   "execution_count": null,
   "id": "bed34948",
   "metadata": {},
   "outputs": [],
   "source": []
  },
  {
   "cell_type": "code",
   "execution_count": null,
   "id": "99175d3a",
   "metadata": {},
   "outputs": [],
   "source": []
  },
  {
   "cell_type": "code",
   "execution_count": null,
   "id": "efe30740",
   "metadata": {},
   "outputs": [],
   "source": []
  },
  {
   "cell_type": "code",
   "execution_count": null,
   "id": "f941c0ff",
   "metadata": {},
   "outputs": [],
   "source": []
  },
  {
   "cell_type": "code",
   "execution_count": null,
   "id": "c7e4e858",
   "metadata": {},
   "outputs": [],
   "source": []
  },
  {
   "cell_type": "code",
   "execution_count": null,
   "id": "48c1ceea",
   "metadata": {},
   "outputs": [],
   "source": []
  },
  {
   "cell_type": "code",
   "execution_count": null,
   "id": "be1f47ba",
   "metadata": {},
   "outputs": [],
   "source": []
  },
  {
   "cell_type": "code",
   "execution_count": null,
   "id": "688c9f34",
   "metadata": {},
   "outputs": [],
   "source": []
  },
  {
   "cell_type": "code",
   "execution_count": null,
   "id": "29baafa0",
   "metadata": {},
   "outputs": [],
   "source": []
  },
  {
   "cell_type": "code",
   "execution_count": null,
   "id": "30dd9cb5",
   "metadata": {},
   "outputs": [],
   "source": []
  },
  {
   "cell_type": "code",
   "execution_count": null,
   "id": "aad12e29",
   "metadata": {},
   "outputs": [],
   "source": []
  },
  {
   "cell_type": "code",
   "execution_count": null,
   "id": "e30a0b66",
   "metadata": {},
   "outputs": [],
   "source": []
  },
  {
   "cell_type": "code",
   "execution_count": null,
   "id": "03ead168",
   "metadata": {},
   "outputs": [],
   "source": []
  },
  {
   "cell_type": "code",
   "execution_count": null,
   "id": "47c65ddb",
   "metadata": {},
   "outputs": [],
   "source": []
  },
  {
   "cell_type": "code",
   "execution_count": null,
   "id": "d653053d",
   "metadata": {},
   "outputs": [],
   "source": []
  },
  {
   "cell_type": "code",
   "execution_count": null,
   "id": "45e55cf8",
   "metadata": {},
   "outputs": [],
   "source": []
  },
  {
   "cell_type": "code",
   "execution_count": null,
   "id": "48560aab",
   "metadata": {},
   "outputs": [],
   "source": []
  },
  {
   "cell_type": "code",
   "execution_count": null,
   "id": "4ca13cc2",
   "metadata": {},
   "outputs": [],
   "source": []
  }
 ],
 "metadata": {
  "kernelspec": {
   "display_name": "Python 3 (ipykernel)",
   "language": "python",
   "name": "python3"
  },
  "language_info": {
   "codemirror_mode": {
    "name": "ipython",
    "version": 3
   },
   "file_extension": ".py",
   "mimetype": "text/x-python",
   "name": "python",
   "nbconvert_exporter": "python",
   "pygments_lexer": "ipython3",
   "version": "3.9.12"
  }
 },
 "nbformat": 4,
 "nbformat_minor": 5
}
